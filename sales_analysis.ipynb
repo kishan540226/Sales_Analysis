{
  "nbformat": 4,
  "nbformat_minor": 0,
  "metadata": {
    "colab": {
      "provenance": []
    },
    "kernelspec": {
      "name": "python3",
      "display_name": "Python 3"
    },
    "language_info": {
      "name": "python"
    }
  },
  "cells": [
    {
      "cell_type": "code",
      "execution_count": 8,
      "metadata": {
        "id": "14950F8axMat"
      },
      "outputs": [],
      "source": [
        "import sqlite3\n",
        "import pandas as pd\n",
        "import matplotlib.pyplot as plt\n",
        "from datetime import datetime"
      ]
    },
    {
      "cell_type": "code",
      "source": [
        "conn = sqlite3.connect(\"sales_data.db\")\n",
        "cursor = conn.cursor()"
      ],
      "metadata": {
        "id": "-RDvnj0vye7d"
      },
      "execution_count": 2,
      "outputs": []
    },
    {
      "cell_type": "code",
      "source": [
        "cursor.execute(\"DROP TABLE IF EXISTS sales\")  # Clear previous data for demo repeatability\n",
        "cursor.execute(\"\"\"\n",
        "    CREATE TABLE sales (\n",
        "        id INTEGER PRIMARY KEY AUTOINCREMENT,\n",
        "        product TEXT,\n",
        "        quantity INTEGER,\n",
        "        price REAL,\n",
        "        date TEXT\n",
        "    )\n",
        "\"\"\")"
      ],
      "metadata": {
        "colab": {
          "base_uri": "https://localhost:8080/"
        },
        "id": "DjkpTQ4oye35",
        "outputId": "59d3173b-a22f-4cb3-b3bb-86957ac4a97b"
      },
      "execution_count": 9,
      "outputs": [
        {
          "output_type": "execute_result",
          "data": {
            "text/plain": [
              "<sqlite3.Cursor at 0x7b2bbe688f40>"
            ]
          },
          "metadata": {},
          "execution_count": 9
        }
      ]
    },
    {
      "cell_type": "code",
      "source": [
        "sales_data = [\n",
        "    ('Widget', 10, 2.5, '2025-09-01'),\n",
        "    ('Widget', 7, 2.5, '2025-09-03'),\n",
        "    ('Widget', 4, 2.5, '2025-09-10'),\n",
        "    ('Gadget', 5, 3.0, '2025-09-01'),\n",
        "    ('Gadget', 8, 3.0, '2025-09-07'),\n",
        "    ('Gadget', 3, 3.0, '2025-09-15'),\n",
        "    ('Doodad', 6, 4.0, '2025-09-02'),\n",
        "    ('Doodad', 2, 4.0, '2025-09-12'),\n",
        "    ('Doodad', 7, 4.0, '2025-09-20'),\n",
        "    ('Thingamajig', 9, 5.5, '2025-09-03'),\n",
        "    ('Thingamajig', 3, 5.5, '2025-09-06'),\n",
        "    ('Thingamajig', 5, 5.5, '2025-09-11'),\n",
        "    ('Whatchamacallit', 4, 6.0, '2025-09-05'),\n",
        "    ('Whatchamacallit', 6, 6.0, '2025-09-14'),\n",
        "    ('Gizmo', 8, 7.0, '2025-09-04'),\n",
        "    ('Gizmo', 4, 7.0, '2025-09-10'),\n",
        "    ('Gizmo', 5, 7.0, '2025-09-19'),\n",
        "]\n",
        "\n",
        "cursor.executemany(\"INSERT INTO sales (product, quantity, price, date) VALUES (?, ?, ?, ?)\", sales_data)\n",
        "conn.commit()"
      ],
      "metadata": {
        "id": "c2T1GCOUye1r"
      },
      "execution_count": 10,
      "outputs": []
    },
    {
      "cell_type": "code",
      "source": [
        "query = \"\"\"\n",
        "    SELECT\n",
        "        product,\n",
        "        strftime('%Y-%m', date) AS month,\n",
        "        SUM(quantity) AS total_qty,\n",
        "        SUM(quantity * price) AS revenue\n",
        "    FROM sales\n",
        "    GROUP BY product, month\n",
        "    ORDER BY month, product\n",
        "\"\"\"\n",
        "df = pd.read_sql_query(query, conn)"
      ],
      "metadata": {
        "id": "4wXyWrY6yey8"
      },
      "execution_count": 11,
      "outputs": []
    },
    {
      "cell_type": "code",
      "source": [
        "print(\"Sales Summary by Product and Month:\")\n",
        "print(df)"
      ],
      "metadata": {
        "colab": {
          "base_uri": "https://localhost:8080/"
        },
        "id": "xhVGSYNLyewH",
        "outputId": "3c24e3a4-95a8-4478-fbb1-9c1856a139d8"
      },
      "execution_count": 12,
      "outputs": [
        {
          "output_type": "stream",
          "name": "stdout",
          "text": [
            "Sales Summary by Product and Month:\n",
            "           product    month  total_qty  revenue\n",
            "0           Doodad  2025-09         15     60.0\n",
            "1           Gadget  2025-09         16     48.0\n",
            "2            Gizmo  2025-09         17    119.0\n",
            "3      Thingamajig  2025-09         17     93.5\n",
            "4  Whatchamacallit  2025-09         10     60.0\n",
            "5           Widget  2025-09         21     52.5\n"
          ]
        }
      ]
    },
    {
      "cell_type": "code",
      "source": [
        "summary_by_product = df.groupby('product').agg({'revenue': 'sum'}).reset_index()\n",
        "\n",
        "summary_by_product.plot(kind='bar', x='product', y='revenue', legend=False, color='green')\n",
        "plt.title(\"Total Revenue by Product\")\n",
        "plt.xlabel(\"Product\")\n",
        "plt.ylabel(\"Revenue ($)\")\n",
        "plt.tight_layout()\n",
        "plt.grid(axis='y', linestyle='--', alpha=0.6)\n",
        "plt.show()"
      ],
      "metadata": {
        "colab": {
          "base_uri": "https://localhost:8080/",
          "height": 487
        },
        "id": "qFRlopRgyz6r",
        "outputId": "83be46f8-be05-44ac-bc39-cfb282c30107"
      },
      "execution_count": 13,
      "outputs": [
        {
          "output_type": "display_data",
          "data": {
            "text/plain": [
              "<Figure size 640x480 with 1 Axes>"
            ],
            "image/png": "[encoded data removed]"
          },
          "metadata": {}
        }
      ]
    },
    {
      "cell_type": "code",
      "source": [
        "df.to_csv(\"sales_summary.csv\", index=False)\n",
        "print(\"✅ Sales summary saved as 'sales_summary.csv'\")"
      ],
      "metadata": {
        "colab": {
          "base_uri": "https://localhost:8080/"
        },
        "id": "q83XuMOP0Dc8",
        "outputId": "5bde8305-8978-4500-a8dd-8d0448e3eee7"
      },
      "execution_count": 15,
      "outputs": [
        {
          "output_type": "stream",
          "name": "stdout",
          "text": [
            "✅ Sales summary saved as 'sales_summary.csv'\n"
          ]
        }
      ]
    },
    {
      "cell_type": "code",
      "source": [
        "from google.colab import files\n",
        "files.download(\"sales_summary.csv\")"
      ],
      "metadata": {
        "colab": {
          "base_uri": "https://localhost:8080/",
          "height": 17
        },
        "id": "64ErpJD1z9Sg",
        "outputId": "0e7999ad-fa7b-4e86-eb30-8b4d46cb8ad5"
      },
      "execution_count": 16,
      "outputs": [
        {
          "output_type": "display_data",
          "data": {
            "text/plain": [
              "<IPython.core.display.Javascript object>"
            ],
            "application/javascript": [
              "\n",
              "    async function download(id, filename, size) {\n",
              "      if (!google.colab.kernel.accessAllowed) {\n",
              "        return;\n",
              "      }\n",
              "      const div = document.createElement('div');\n",
              "      const label = document.createElement('label');\n",
              "      label.textContent = `Downloading \"${filename}\": `;\n",
              "      div.appendChild(label);\n",
              "      const progress = document.createElement('progress');\n",
              "      progress.max = size;\n",
              "      div.appendChild(progress);\n",
              "      document.body.appendChild(div);\n",
              "\n",
              "      const buffers = [];\n",
              "      let downloaded = 0;\n",
              "\n",
              "      const channel = await google.colab.kernel.comms.open(id);\n",
              "      // Send a message to notify the kernel that we're ready.\n",
              "      channel.send({})\n",
              "\n",
              "      for await (const message of channel.messages) {\n",
              "        // Send a message to notify the kernel that we're ready.\n",
              "        channel.send({})\n",
              "        if (message.buffers) {\n",
              "          for (const buffer of message.buffers) {\n",
              "            buffers.push(buffer);\n",
              "            downloaded += buffer.byteLength;\n",
              "            progress.value = downloaded;\n",
              "          }\n",
              "        }\n",
              "      }\n",
              "      const blob = new Blob(buffers, {type: 'application/binary'});\n",
              "      const a = document.createElement('a');\n",
              "      a.href = window.URL.createObjectURL(blob);\n",
              "      a.download = filename;\n",
              "      div.appendChild(a);\n",
              "      a.click();\n",
              "      div.remove();\n",
              "    }\n",
              "  "
            ]
          },
          "metadata": {}
        },
        {
          "output_type": "display_data",
          "data": {
            "text/plain": [
              "<IPython.core.display.Javascript object>"
            ],
            "application/javascript": [
              "download(\"download_e942e5e4-a26a-4103-9120-2ed213e56f4b\", \"sales_summary.csv\", 184)"
            ]
          },
          "metadata": {}
        }
      ]
    }
  ]
}